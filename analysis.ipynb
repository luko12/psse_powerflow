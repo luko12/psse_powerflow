{
 "cells": [
  {
   "cell_type": "markdown",
   "metadata": {},
   "source": [
    "# Set Up (imports including psspy)"
   ]
  },
  {
   "cell_type": "code",
   "execution_count": 42,
   "metadata": {},
   "outputs": [
    {
     "name": "stdout",
     "output_type": "stream",
     "text": [
      "Requirement already satisfied: pandas in c:\\users\\lukas\\documents\\personal projects\\.venv\\lib\\site-packages (2.2.3)\n",
      "Requirement already satisfied: numpy>=1.23.2 in c:\\users\\lukas\\documents\\personal projects\\.venv\\lib\\site-packages (from pandas) (2.2.5)\n",
      "Requirement already satisfied: python-dateutil>=2.8.2 in c:\\users\\lukas\\documents\\personal projects\\.venv\\lib\\site-packages (from pandas) (2.9.0.post0)\n",
      "Requirement already satisfied: pytz>=2020.1 in c:\\users\\lukas\\documents\\personal projects\\.venv\\lib\\site-packages (from pandas) (2025.2)\n",
      "Requirement already satisfied: tzdata>=2022.7 in c:\\users\\lukas\\documents\\personal projects\\.venv\\lib\\site-packages (from pandas) (2025.2)\n",
      "Requirement already satisfied: six>=1.5 in c:\\users\\lukas\\documents\\personal projects\\.venv\\lib\\site-packages (from python-dateutil>=2.8.2->pandas) (1.17.0)\n",
      "Requirement already satisfied: numpy in c:\\users\\lukas\\documents\\personal projects\\.venv\\lib\\site-packages (2.2.5)\n"
     ]
    }
   ],
   "source": [
    "!pip install pandas\n",
    "!pip install numpy"
   ]
  },
  {
   "cell_type": "code",
   "execution_count": 43,
   "metadata": {},
   "outputs": [
    {
     "name": "stdout",
     "output_type": "stream",
     "text": [
      "3.11.9 (tags/v3.11.9:de54cf5, Apr  2 2024, 10:12:12) [MSC v.1938 64 bit (AMD64)]\n"
     ]
    }
   ],
   "source": [
    "import pandas as pd\n",
    "import numpy as np\n",
    "import os, sys\n",
    "print(sys.version) # should be 3.11.9"
   ]
  },
  {
   "cell_type": "code",
   "execution_count": 2,
   "metadata": {},
   "outputs": [
    {
     "name": "stdout",
     "output_type": "stream",
     "text": [
      "['C:\\\\Users\\\\lukas\\\\AppData\\\\Local\\\\Programs\\\\Python\\\\Python311\\\\python311.zip', 'C:\\\\Users\\\\lukas\\\\AppData\\\\Local\\\\Programs\\\\Python\\\\Python311\\\\DLLs', 'C:\\\\Users\\\\lukas\\\\AppData\\\\Local\\\\Programs\\\\Python\\\\Python311\\\\Lib', 'C:\\\\Users\\\\lukas\\\\AppData\\\\Local\\\\Programs\\\\Python\\\\Python311', 'c:\\\\Users\\\\lukas\\\\Documents\\\\Personal Projects\\\\.venv', '', 'c:\\\\Users\\\\lukas\\\\Documents\\\\Personal Projects\\\\.venv\\\\Lib\\\\site-packages', 'c:\\\\Users\\\\lukas\\\\Documents\\\\Personal Projects\\\\.venv\\\\Lib\\\\site-packages\\\\win32', 'c:\\\\Users\\\\lukas\\\\Documents\\\\Personal Projects\\\\.venv\\\\Lib\\\\site-packages\\\\win32\\\\lib', 'c:\\\\Users\\\\lukas\\\\Documents\\\\Personal Projects\\\\.venv\\\\Lib\\\\site-packages\\\\Pythonwin']\n"
     ]
    }
   ],
   "source": [
    "print(sys.path)"
   ]
  },
  {
   "cell_type": "code",
   "execution_count": 3,
   "metadata": {},
   "outputs": [],
   "source": [
    "PSSE_LOCATION = r\"C:\\Program Files\\PTI\\PSSE36\\36.1\\PSSPY311\" # this is where the psspy module is located on my machine\n",
    "sys.path.append(PSSE_LOCATION)\n",
    "os.environ['PATH'] += ';' + PSSE_LOCATION"
   ]
  },
  {
   "cell_type": "code",
   "execution_count": 4,
   "metadata": {},
   "outputs": [],
   "source": [
    "import psse3601\n",
    "import psspy"
   ]
  },
  {
   "cell_type": "markdown",
   "metadata": {},
   "source": [
    "# Import Case Data"
   ]
  },
  {
   "cell_type": "code",
   "execution_count": 44,
   "metadata": {},
   "outputs": [
    {
     "data": {
      "text/plain": [
       "0"
      ]
     },
     "execution_count": 44,
     "metadata": {},
     "output_type": "execute_result"
    }
   ],
   "source": [
    "# initialize system\n",
    "psspy.psseinit(39)"
   ]
  },
  {
   "cell_type": "code",
   "execution_count": 45,
   "metadata": {},
   "outputs": [
    {
     "name": "stdout",
     "output_type": "stream",
     "text": [
      "\n",
      " Reading IC, SBASE, REV, XFRRAT, NXFRAT, BASFRQ...\n",
      "\n",
      " Converting RAW data from PSS(R)E 33 to PSS(R)E 34 format\n",
      " Starting processing of Case identification data records\n",
      " Finished processing of 3 records for Case identification data\n",
      " Starting processing of Bus data records\n",
      " Finished processing of 39 records for Bus data\n",
      " Starting processing of Load data records\n",
      " Finished processing of 31 records for Load data\n",
      " Starting processing of Fixed shunt data records\n",
      " Finished processing of 2 records for Fixed shunt data\n",
      " Starting processing of Generator data records\n",
      " Finished processing of 10 records for Generator data\n",
      " Starting processing of Branch data records\n",
      " Finished processing of 34 records for Branch data\n",
      " Finished processing of 0 records for System switching device data\n",
      " Starting processing of Transformer data records\n",
      " Finished processing of 48 records for 12 Transformer data\n",
      " Starting processing of Area data records\n",
      " Finished processing of 1 records for Area data\n",
      " Starting processing of Two-terminal dc data records\n",
      " Finished processing of 0 records for 0 Two-terminal dc data\n",
      " Starting processing of VSC dc line data records\n",
      " Finished processing of 0 records for 0 VSC dc line data\n",
      " Starting processing of Impedance correction data records\n",
      " Finished processing of 0 records for Impedance correction data\n",
      " Starting processing of Multi-terminal dc data records\n",
      " Finished processing of 0 records for 0 Multi-terminal dc data\n",
      " Starting processing of Multi-section line data records\n",
      " Finished processing of 0 records for Multi-section line data\n",
      " Starting processing of Zone data records\n",
      " Finished processing of 1 records for Zone data\n",
      " Starting processing of Inter-area transfer data records\n",
      " Finished processing of 0 records for Inter-area transfer data\n",
      " Starting processing of Owner data records\n",
      " Finished processing of 1 records for Owner data\n",
      " Starting processing of FACTS device data records\n",
      " Finished processing of 0 records for FACTS device data\n",
      " Starting processing of Switched shunt data records\n",
      " Finished processing of 0 records for Switched shunt data\n",
      " Starting processing of GNE data records\n",
      " Finished processing of 0 records for 0 GNE data\n",
      " Starting processing of Induction machine data records\n",
      " Finished processing of 0 records for Induction machine data\n",
      "\n",
      " Converting RAW data from PSS(R)E 34 to PSS(R)E 35 format\n",
      " Starting processing of Case identification data records\n",
      " Finished processing of 3 records for Case identification data\n",
      " Starting processing of System-wide data records\n",
      " Finished processing of 0 records for System-wide data\n",
      " Starting processing of Bus data records\n",
      " Finished processing of 39 records for Bus data\n",
      " Starting processing of Load data records\n",
      " Finished processing of 31 records for Load data\n",
      " Starting processing of Fixed shunt data records\n",
      " Finished processing of 2 records for Fixed shunt data\n",
      " Starting processing of Generator data records\n",
      " Finished processing of 10 records for Generator data\n",
      " Starting processing of Branch data records\n",
      " Finished processing of 34 records for Branch data\n",
      " Starting processing of System switching device data records\n",
      " Finished processing of 0 records for System switching device data\n",
      " Starting processing of Transformer data records\n",
      " Finished processing of 48 records for 12 Transformer data\n",
      " Starting processing of Area data records\n",
      " Finished processing of 1 records for Area data\n",
      " Starting processing of Two-terminal dc data records\n",
      " Finished processing of 0 records for 0 Two-terminal dc data\n",
      " Starting processing of VSC dc line data records\n",
      " Finished processing of 0 records for 0 VSC dc line data\n",
      " Starting processing of Impedance correction data records\n",
      " Finished processing of 0 records for Impedance correction data\n",
      " Starting processing of Multi-terminal dc data records\n",
      " Finished processing of 0 records for 0 Multi-terminal dc data\n",
      " Starting processing of Multi-section line data records\n",
      " Finished processing of 0 records for Multi-section line data\n",
      " Starting processing of Zone data records\n",
      " Finished processing of 1 records for Zone data\n",
      " Starting processing of Inter-area transfer data records\n",
      " Finished processing of 0 records for Inter-area transfer data\n",
      " Starting processing of Owner data records\n",
      " Finished processing of 1 records for Owner data\n",
      " Starting processing of FACTS device data records\n",
      " Finished processing of 0 records for FACTS device data\n",
      " Starting processing of Switched shunt data records\n",
      " Finished processing of 0 records for Switched shunt data\n",
      " Starting processing of GNE data records\n",
      " Finished processing of 0 records for 0 GNE data\n",
      " Starting processing of Induction machine data records\n",
      " Finished processing of 0 records for Induction machine data\n",
      " Starting processing of Substation data records\n",
      " Finished processing of 0 records for Substation data\n",
      "\n",
      " Converting RAW data from PSS(R)E 35 to PSS(R)E 36 format\n",
      " Starting processing of Case identification data records\n",
      " Finished processing of 3 records for Case identification data\n",
      " Starting processing of System-wide data records\n",
      " Finished processing of 0 records for System-wide data\n",
      " Starting processing of Bus data records\n",
      " Finished processing of 39 records for Bus data\n",
      " Starting processing of Load data records\n",
      " Finished processing of 31 records for Load data\n",
      " Starting processing of Fixed shunt data records\n",
      " Finished processing of 2 records for Fixed shunt data\n",
      " Starting processing of Generator data records\n",
      " Finished processing of 10 records for Generator data\n",
      " Starting processing of Branch data records\n",
      " Finished processing of 34 records for Branch data\n",
      " Starting processing of System switching device data records\n",
      " Finished processing of 0 records for System switching device data\n",
      " Starting processing of Transformer data records\n",
      " Finished processing of 48 records for Transformer data\n",
      " Starting processing of Area data records\n",
      " Finished processing of 1 records for Area data\n",
      " Starting processing of Two-terminal dc data records\n",
      " Finished processing of 0 records for Two-terminal dc data\n",
      " Starting processing of VSC dc line data records\n",
      " Finished processing of 0 records for VSC dc line data\n",
      " Starting processing of Impedance correction data records\n",
      " Finished processing of 0 records for Impedance correction data\n",
      " Starting processing of Multi-terminal dc data records\n",
      " Finished processing of 0 records for Multi-terminal dc data\n",
      " Starting processing of Multi-section line data records\n",
      " Finished processing of 0 records for Multi-section line data\n",
      " Starting processing of Zone data records\n",
      " Finished processing of 1 records for Zone data\n",
      " Starting processing of Inter-area transfer data records\n",
      " Finished processing of 0 records for Inter-area transfer data\n",
      " Starting processing of Owner data records\n",
      " Finished processing of 1 records for Owner data\n",
      " Starting processing of FACTS device data records\n",
      " Finished processing of 0 records for FACTS device data\n",
      " Starting processing of Switched shunt data records\n",
      " Finished processing of 0 records for Switched shunt data\n",
      " Starting processing of GNE data records\n",
      " Finished processing of 0 records for GNE data\n",
      " Starting processing of Induction machine data records\n",
      " Finished processing of 0 records for Induction machine data\n",
      " Starting processing of Substation data records\n",
      " Finished processing of 0 records for Substation data\n",
      "\n",
      " Reading current format RAW data file\n",
      "\n",
      " Reading IC, SBASE, REV, XFRRAT, NXFRAT, BASFRQ...\n",
      "\n",
      " Reading two line case heading...\n",
      "\n",
      " Reading system-wide data...\n",
      "\n",
      " Reading bus data...\n",
      "\n",
      " Reading load data...\n",
      "\n",
      " Reading fixed bus shunt data...\n",
      "\n",
      " Reading voltage droop control data...\n",
      "\n",
      " Reading generator data...\n",
      "\n",
      " Reading Switching Device Ratings Table data...\n",
      "\n",
      " Reading non-transformer branch data...\n",
      "\n",
      " Reading system switching device data...\n",
      "\n",
      " Reading transformer data...\n",
      "\n",
      " Reading area interchange data...\n",
      "\n",
      " Reading two-terminal dc line data...\n",
      "\n",
      " Reading VSC dc line data...\n",
      "\n",
      " Reading transformer impedance correction data...\n",
      "\n",
      " Reading multi-terminal dc line data...\n",
      "\n",
      " Reading multi-section line data...\n",
      "\n",
      " Reading zone name data...\n",
      "\n",
      " Reading inter-area transfer data...\n",
      "\n",
      " Reading owner name data...\n",
      "\n",
      " Reading FACTS device data...\n",
      "\n",
      " Reading switched shunt data...\n",
      "\n",
      " Reading GNE device data...\n",
      "\n",
      " Reading induction machine data...\n",
      "\n",
      " Reading load type data...\n",
      "\n",
      " Reading interface data...\n",
      "\n",
      " Reading interface element data...\n",
      "\n",
      " Reading substation data...\n"
     ]
    },
    {
     "data": {
      "text/plain": [
       "0"
      ]
     },
     "execution_count": 45,
     "metadata": {},
     "output_type": "execute_result"
    }
   ],
   "source": [
    "# read case\n",
    "psspy.read(0, \"IEEE 39 bus.RAW\")"
   ]
  },
  {
   "cell_type": "code",
   "execution_count": 46,
   "metadata": {},
   "outputs": [
    {
     "name": "stdout",
     "output_type": "stream",
     "text": [
      "\n",
      " Ordering network...\n",
      " Diagonals = 38   Off-diagonals = 66   Maximum size = 90\n",
      "\n",
      "  ITER       DELTAP      BUS         DELTAQ      BUS        DELTA/V/      BUS       DELTAANG      BUS\n",
      "   0         0.0007(      2     )    0.0022(      5     )\n",
      "                                                             0.00001(     17     )   0.00000(     22     )\n",
      "   1         0.0000(      2     )    0.0000(      5     )\n",
      "                                                             0.00000(     18     )   0.00000(     25     )\n",
      "   2         0.0000(      6     )    0.0000(     22     )\n",
      "\n",
      "\n",
      " Reached tolerance in 2 iterations\n",
      "\n",
      " Largest mismatch:     -0.00 MW      0.00 Mvar      0.00 MVA at bus 5 [5           1.0000]\n",
      " System total absolute mismatch:                    0.00 MVA\n",
      "\n",
      " SWING BUS SUMMARY:\n",
      "   BUS#-SCT X-- NAME --X BASKV      PGEN     PMAX    PMIN      QGEN     QMAX    QMIN\n",
      "     31     31          1.0000     571.3   9999.9     0.0     363.9    800.0  -500.0\n"
     ]
    },
    {
     "data": {
      "text/plain": [
       "0"
      ]
     },
     "execution_count": 46,
     "metadata": {},
     "output_type": "execute_result"
    }
   ],
   "source": [
    "# run load flow analysis\n",
    "psspy.fnsl([0,0,0,1,1,0,99,0]) # flat start newton-raphson load flow"
   ]
  },
  {
   "cell_type": "code",
   "execution_count": 67,
   "metadata": {},
   "outputs": [],
   "source": [
    "from itertools import groupby\n",
    "from operator import itemgetter\n",
    "attr_type = itemgetter(0)\n",
    "\n",
    "def subsystem_info(name, attributes, sid=-1, inservice=True):\n",
    "    \"\"\"\n",
    "    Returns requested attributes from the PSS(r)E subsystem API\n",
    "    for the given subsystem id and subsystem element name.\n",
    "    e.g. to retrieve bus attributes \"NAME\", \"NUMBER\" and \"PU\"\n",
    "      \n",
    "      subsystem_info('bus', [\"NAME\", \"NUMBER\", \"PU\"])\n",
    "    where the 'bus' `name` argument comes from the original\n",
    "    PSS(r)E subsystem API naming convention found in Chapter 8 of the\n",
    "    PSS(r)E API.\n",
    "    abusint  # bus\n",
    "    amachint # mach\n",
    "    aloadint # load\n",
    "    Args:\n",
    "      inservice [optional]: True (default) to list only information\n",
    "         for in service elements;\n",
    "      sid [optional]: list only information for elements in this\n",
    "         subsystem id (-1, all elements by default).  \n",
    "    \n",
    "    \"\"\"\n",
    "    name = name.lower()\n",
    "    gettypes = getattr(psspy, 'a%stypes' % name)\n",
    "    apilookup = {\n",
    "            'I': getattr(psspy, 'a%sint' % name),\n",
    "            'R': getattr(psspy, 'a%sreal' % name),\n",
    "            'X': getattr(psspy, 'a%scplx' % name),\n",
    "            'C': getattr(psspy, 'a%schar' % name), }\n",
    "\n",
    "    result = []\n",
    "    ierr, attr_types = gettypes(attributes)\n",
    "\n",
    "    df = pd.DataFrame(columns=attributes)\n",
    "\n",
    "    df_col = 0\n",
    "    for k, group in groupby(list(zip(attr_types, attributes)), key=attr_type):\n",
    "        func = apilookup[k]\n",
    "        strings = list(list(zip(*group))[1])\n",
    "        ierr, res = func(sid, flag=1 if inservice else 2, string=strings)\n",
    "        df[attributes[df_col]] = res[0]\n",
    "        df_col += 1\n",
    "\n",
    "    return df"
   ]
  },
  {
   "cell_type": "code",
   "execution_count": 68,
   "metadata": {},
   "outputs": [
    {
     "data": {
      "text/html": [
       "<div>\n",
       "<style scoped>\n",
       "    .dataframe tbody tr th:only-of-type {\n",
       "        vertical-align: middle;\n",
       "    }\n",
       "\n",
       "    .dataframe tbody tr th {\n",
       "        vertical-align: top;\n",
       "    }\n",
       "\n",
       "    .dataframe thead th {\n",
       "        text-align: right;\n",
       "    }\n",
       "</style>\n",
       "<table border=\"1\" class=\"dataframe\">\n",
       "  <thead>\n",
       "    <tr style=\"text-align: right;\">\n",
       "      <th></th>\n",
       "      <th>PU</th>\n",
       "      <th>NUMBER</th>\n",
       "    </tr>\n",
       "  </thead>\n",
       "  <tbody>\n",
       "    <tr>\n",
       "      <th>0</th>\n",
       "      <td>1.051784</td>\n",
       "      <td>1</td>\n",
       "    </tr>\n",
       "    <tr>\n",
       "      <th>1</th>\n",
       "      <td>1.059875</td>\n",
       "      <td>2</td>\n",
       "    </tr>\n",
       "    <tr>\n",
       "      <th>2</th>\n",
       "      <td>1.056548</td>\n",
       "      <td>3</td>\n",
       "    </tr>\n",
       "    <tr>\n",
       "      <th>3</th>\n",
       "      <td>1.059186</td>\n",
       "      <td>4</td>\n",
       "    </tr>\n",
       "    <tr>\n",
       "      <th>4</th>\n",
       "      <td>1.073595</td>\n",
       "      <td>5</td>\n",
       "    </tr>\n",
       "  </tbody>\n",
       "</table>\n",
       "</div>"
      ],
      "text/plain": [
       "         PU  NUMBER\n",
       "0  1.051784       1\n",
       "1  1.059875       2\n",
       "2  1.056548       3\n",
       "3  1.059186       4\n",
       "4  1.073595       5"
      ]
     },
     "execution_count": 68,
     "metadata": {},
     "output_type": "execute_result"
    }
   ],
   "source": [
    "# cols = ['NUMBER', 'PU', 'Angle']\n",
    "cols = ['PU', 'NUMBER']\n",
    "businfo = subsystem_info('bus', cols, sid=-1)\n",
    "businfo.head()"
   ]
  },
  {
   "cell_type": "code",
   "execution_count": 20,
   "metadata": {},
   "outputs": [
    {
     "name": "stdout",
     "output_type": "stream",
     "text": [
      "None\n"
     ]
    }
   ],
   "source": [
    "ierr, busIDs = psspy.abusint(sid=-1, string=\"ID\")\n",
    "ierr, busNums = psspy.abusint(sid=-1, flag=4, string=\"NUMBER\")\n",
    "print(busIDs)"
   ]
  },
  {
   "cell_type": "code",
   "execution_count": null,
   "metadata": {},
   "outputs": [
    {
     "name": "stdout",
     "output_type": "stream",
     "text": [
      "[[1, 2, 3, 4, 5, 6, 7, 8, 9, 10, 11, 12, 13, 14, 15, 16, 17, 18, 19, 20, 21, 22, 23, 24, 25, 26, 27, 28, 29, 31, 39]]\n"
     ]
    }
   ],
   "source": [
    "print(busNums)"
   ]
  },
  {
   "cell_type": "code",
   "execution_count": 18,
   "metadata": {},
   "outputs": [
    {
     "name": "stdout",
     "output_type": "stream",
     "text": [
      "[['1           ', '2           ', '3           ', '4           ', '5           ', '6           ', '7           ', '8           ', '9           ', '10          ', '11          ', '12          ', '13          ', '14          ', '15          ', '16          ', '17          ', '18          ', '19          ', '20          ', '21          ', '22          ', '23          ', '24          ', '25          ', '26          ', '27          ', '28          ', '29          ', '30          ', '31          ', '32          ', '33          ', '34          ', '35          ', '36          ', '37          ', '38          ', '39          ']]\n"
     ]
    }
   ],
   "source": [
    "ierr, busNames = psspy.abuschar(sid=-1, string=\"NAME\")\n",
    "print(busNames)"
   ]
  }
 ],
 "metadata": {
  "kernelspec": {
   "display_name": ".venv",
   "language": "python",
   "name": "python3"
  },
  "language_info": {
   "codemirror_mode": {
    "name": "ipython",
    "version": 3
   },
   "file_extension": ".py",
   "mimetype": "text/x-python",
   "name": "python",
   "nbconvert_exporter": "python",
   "pygments_lexer": "ipython3",
   "version": "3.11.9"
  }
 },
 "nbformat": 4,
 "nbformat_minor": 2
}
