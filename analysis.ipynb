{
 "cells": [
  {
   "cell_type": "markdown",
   "metadata": {},
   "source": [
    "# Set Up (imports including psspy)"
   ]
  },
  {
   "cell_type": "code",
   "execution_count": 42,
   "metadata": {},
   "outputs": [
    {
     "name": "stdout",
     "output_type": "stream",
     "text": [
      "Requirement already satisfied: pandas in c:\\users\\lukas\\documents\\personal projects\\.venv\\lib\\site-packages (2.2.3)\n",
      "Requirement already satisfied: numpy>=1.23.2 in c:\\users\\lukas\\documents\\personal projects\\.venv\\lib\\site-packages (from pandas) (2.2.5)\n",
      "Requirement already satisfied: python-dateutil>=2.8.2 in c:\\users\\lukas\\documents\\personal projects\\.venv\\lib\\site-packages (from pandas) (2.9.0.post0)\n",
      "Requirement already satisfied: pytz>=2020.1 in c:\\users\\lukas\\documents\\personal projects\\.venv\\lib\\site-packages (from pandas) (2025.2)\n",
      "Requirement already satisfied: tzdata>=2022.7 in c:\\users\\lukas\\documents\\personal projects\\.venv\\lib\\site-packages (from pandas) (2025.2)\n",
      "Requirement already satisfied: six>=1.5 in c:\\users\\lukas\\documents\\personal projects\\.venv\\lib\\site-packages (from python-dateutil>=2.8.2->pandas) (1.17.0)\n",
      "Requirement already satisfied: numpy in c:\\users\\lukas\\documents\\personal projects\\.venv\\lib\\site-packages (2.2.5)\n"
     ]
    }
   ],
   "source": [
    "!pip install pandas\n",
    "!pip install numpy"
   ]
  },
  {
   "cell_type": "code",
   "execution_count": 43,
   "metadata": {},
   "outputs": [
    {
     "name": "stdout",
     "output_type": "stream",
     "text": [
      "3.11.9 (tags/v3.11.9:de54cf5, Apr  2 2024, 10:12:12) [MSC v.1938 64 bit (AMD64)]\n"
     ]
    }
   ],
   "source": [
    "import pandas as pd\n",
    "import numpy as np\n",
    "import os, sys\n",
    "print(sys.version) # should be 3.11.9"
   ]
  },
  {
   "cell_type": "code",
   "execution_count": 2,
   "metadata": {},
   "outputs": [
    {
     "name": "stdout",
     "output_type": "stream",
     "text": [
      "['C:\\\\Users\\\\lukas\\\\AppData\\\\Local\\\\Programs\\\\Python\\\\Python311\\\\python311.zip', 'C:\\\\Users\\\\lukas\\\\AppData\\\\Local\\\\Programs\\\\Python\\\\Python311\\\\DLLs', 'C:\\\\Users\\\\lukas\\\\AppData\\\\Local\\\\Programs\\\\Python\\\\Python311\\\\Lib', 'C:\\\\Users\\\\lukas\\\\AppData\\\\Local\\\\Programs\\\\Python\\\\Python311', 'c:\\\\Users\\\\lukas\\\\Documents\\\\Personal Projects\\\\.venv', '', 'c:\\\\Users\\\\lukas\\\\Documents\\\\Personal Projects\\\\.venv\\\\Lib\\\\site-packages', 'c:\\\\Users\\\\lukas\\\\Documents\\\\Personal Projects\\\\.venv\\\\Lib\\\\site-packages\\\\win32', 'c:\\\\Users\\\\lukas\\\\Documents\\\\Personal Projects\\\\.venv\\\\Lib\\\\site-packages\\\\win32\\\\lib', 'c:\\\\Users\\\\lukas\\\\Documents\\\\Personal Projects\\\\.venv\\\\Lib\\\\site-packages\\\\Pythonwin']\n"
     ]
    }
   ],
   "source": [
    "print(sys.path)"
   ]
  },
  {
   "cell_type": "code",
   "execution_count": 3,
   "metadata": {},
   "outputs": [],
   "source": [
    "PSSE_LOCATION = r\"C:\\Program Files\\PTI\\PSSE36\\36.1\\PSSPY311\" # this is where the psspy module is located on my machine\n",
    "sys.path.append(PSSE_LOCATION)\n",
    "os.environ['PATH'] += ';' + PSSE_LOCATION"
   ]
  },
  {
   "cell_type": "code",
   "execution_count": 4,
   "metadata": {},
   "outputs": [],
   "source": [
    "import psse3601\n",
    "import psspy"
   ]
  },
  {
   "cell_type": "markdown",
   "metadata": {},
   "source": [
    "# Import Case Data"
   ]
  },
  {
   "cell_type": "code",
   "execution_count": 44,
   "metadata": {},
   "outputs": [
    {
     "data": {
      "text/plain": [
       "0"
      ]
     },
     "execution_count": 44,
     "metadata": {},
     "output_type": "execute_result"
    }
   ],
   "source": [
    "# initialize system\n",
    "psspy.psseinit(39)"
   ]
  },
  {
   "cell_type": "code",
   "execution_count": 45,
   "metadata": {},
   "outputs": [
    {
     "name": "stdout",
     "output_type": "stream",
     "text": [
      "\n",
      " Reading IC, SBASE, REV, XFRRAT, NXFRAT, BASFRQ...\n",
      "\n",
      " Converting RAW data from PSS(R)E 33 to PSS(R)E 34 format\n",
      " Starting processing of Case identification data records\n",
      " Finished processing of 3 records for Case identification data\n",
      " Starting processing of Bus data records\n",
      " Finished processing of 39 records for Bus data\n",
      " Starting processing of Load data records\n",
      " Finished processing of 31 records for Load data\n",
      " Starting processing of Fixed shunt data records\n",
      " Finished processing of 2 records for Fixed shunt data\n",
      " Starting processing of Generator data records\n",
      " Finished processing of 10 records for Generator data\n",
      " Starting processing of Branch data records\n",
      " Finished processing of 34 records for Branch data\n",
      " Finished processing of 0 records for System switching device data\n",
      " Starting processing of Transformer data records\n",
      " Finished processing of 48 records for 12 Transformer data\n",
      " Starting processing of Area data records\n",
      " Finished processing of 1 records for Area data\n",
      " Starting processing of Two-terminal dc data records\n",
      " Finished processing of 0 records for 0 Two-terminal dc data\n",
      " Starting processing of VSC dc line data records\n",
      " Finished processing of 0 records for 0 VSC dc line data\n",
      " Starting processing of Impedance correction data records\n",
      " Finished processing of 0 records for Impedance correction data\n",
      " Starting processing of Multi-terminal dc data records\n",
      " Finished processing of 0 records for 0 Multi-terminal dc data\n",
      " Starting processing of Multi-section line data records\n",
      " Finished processing of 0 records for Multi-section line data\n",
      " Starting processing of Zone data records\n",
      " Finished processing of 1 records for Zone data\n",
      " Starting processing of Inter-area transfer data records\n",
      " Finished processing of 0 records for Inter-area transfer data\n",
      " Starting processing of Owner data records\n",
      " Finished processing of 1 records for Owner data\n",
      " Starting processing of FACTS device data records\n",
      " Finished processing of 0 records for FACTS device data\n",
      " Starting processing of Switched shunt data records\n",
      " Finished processing of 0 records for Switched shunt data\n",
      " Starting processing of GNE data records\n",
      " Finished processing of 0 records for 0 GNE data\n",
      " Starting processing of Induction machine data records\n",
      " Finished processing of 0 records for Induction machine data\n",
      "\n",
      " Converting RAW data from PSS(R)E 34 to PSS(R)E 35 format\n",
      " Starting processing of Case identification data records\n",
      " Finished processing of 3 records for Case identification data\n",
      " Starting processing of System-wide data records\n",
      " Finished processing of 0 records for System-wide data\n",
      " Starting processing of Bus data records\n",
      " Finished processing of 39 records for Bus data\n",
      " Starting processing of Load data records\n",
      " Finished processing of 31 records for Load data\n",
      " Starting processing of Fixed shunt data records\n",
      " Finished processing of 2 records for Fixed shunt data\n",
      " Starting processing of Generator data records\n",
      " Finished processing of 10 records for Generator data\n",
      " Starting processing of Branch data records\n",
      " Finished processing of 34 records for Branch data\n",
      " Starting processing of System switching device data records\n",
      " Finished processing of 0 records for System switching device data\n",
      " Starting processing of Transformer data records\n",
      " Finished processing of 48 records for 12 Transformer data\n",
      " Starting processing of Area data records\n",
      " Finished processing of 1 records for Area data\n",
      " Starting processing of Two-terminal dc data records\n",
      " Finished processing of 0 records for 0 Two-terminal dc data\n",
      " Starting processing of VSC dc line data records\n",
      " Finished processing of 0 records for 0 VSC dc line data\n",
      " Starting processing of Impedance correction data records\n",
      " Finished processing of 0 records for Impedance correction data\n",
      " Starting processing of Multi-terminal dc data records\n",
      " Finished processing of 0 records for 0 Multi-terminal dc data\n",
      " Starting processing of Multi-section line data records\n",
      " Finished processing of 0 records for Multi-section line data\n",
      " Starting processing of Zone data records\n",
      " Finished processing of 1 records for Zone data\n",
      " Starting processing of Inter-area transfer data records\n",
      " Finished processing of 0 records for Inter-area transfer data\n",
      " Starting processing of Owner data records\n",
      " Finished processing of 1 records for Owner data\n",
      " Starting processing of FACTS device data records\n",
      " Finished processing of 0 records for FACTS device data\n",
      " Starting processing of Switched shunt data records\n",
      " Finished processing of 0 records for Switched shunt data\n",
      " Starting processing of GNE data records\n",
      " Finished processing of 0 records for 0 GNE data\n",
      " Starting processing of Induction machine data records\n",
      " Finished processing of 0 records for Induction machine data\n",
      " Starting processing of Substation data records\n",
      " Finished processing of 0 records for Substation data\n",
      "\n",
      " Converting RAW data from PSS(R)E 35 to PSS(R)E 36 format\n",
      " Starting processing of Case identification data records\n",
      " Finished processing of 3 records for Case identification data\n",
      " Starting processing of System-wide data records\n",
      " Finished processing of 0 records for System-wide data\n",
      " Starting processing of Bus data records\n",
      " Finished processing of 39 records for Bus data\n",
      " Starting processing of Load data records\n",
      " Finished processing of 31 records for Load data\n",
      " Starting processing of Fixed shunt data records\n",
      " Finished processing of 2 records for Fixed shunt data\n",
      " Starting processing of Generator data records\n",
      " Finished processing of 10 records for Generator data\n",
      " Starting processing of Branch data records\n",
      " Finished processing of 34 records for Branch data\n",
      " Starting processing of System switching device data records\n",
      " Finished processing of 0 records for System switching device data\n",
      " Starting processing of Transformer data records\n",
      " Finished processing of 48 records for Transformer data\n",
      " Starting processing of Area data records\n",
      " Finished processing of 1 records for Area data\n",
      " Starting processing of Two-terminal dc data records\n",
      " Finished processing of 0 records for Two-terminal dc data\n",
      " Starting processing of VSC dc line data records\n",
      " Finished processing of 0 records for VSC dc line data\n",
      " Starting processing of Impedance correction data records\n",
      " Finished processing of 0 records for Impedance correction data\n",
      " Starting processing of Multi-terminal dc data records\n",
      " Finished processing of 0 records for Multi-terminal dc data\n",
      " Starting processing of Multi-section line data records\n",
      " Finished processing of 0 records for Multi-section line data\n",
      " Starting processing of Zone data records\n",
      " Finished processing of 1 records for Zone data\n",
      " Starting processing of Inter-area transfer data records\n",
      " Finished processing of 0 records for Inter-area transfer data\n",
      " Starting processing of Owner data records\n",
      " Finished processing of 1 records for Owner data\n",
      " Starting processing of FACTS device data records\n",
      " Finished processing of 0 records for FACTS device data\n",
      " Starting processing of Switched shunt data records\n",
      " Finished processing of 0 records for Switched shunt data\n",
      " Starting processing of GNE data records\n",
      " Finished processing of 0 records for GNE data\n",
      " Starting processing of Induction machine data records\n",
      " Finished processing of 0 records for Induction machine data\n",
      " Starting processing of Substation data records\n",
      " Finished processing of 0 records for Substation data\n",
      "\n",
      " Reading current format RAW data file\n",
      "\n",
      " Reading IC, SBASE, REV, XFRRAT, NXFRAT, BASFRQ...\n",
      "\n",
      " Reading two line case heading...\n",
      "\n",
      " Reading system-wide data...\n",
      "\n",
      " Reading bus data...\n",
      "\n",
      " Reading load data...\n",
      "\n",
      " Reading fixed bus shunt data...\n",
      "\n",
      " Reading voltage droop control data...\n",
      "\n",
      " Reading generator data...\n",
      "\n",
      " Reading Switching Device Ratings Table data...\n",
      "\n",
      " Reading non-transformer branch data...\n",
      "\n",
      " Reading system switching device data...\n",
      "\n",
      " Reading transformer data...\n",
      "\n",
      " Reading area interchange data...\n",
      "\n",
      " Reading two-terminal dc line data...\n",
      "\n",
      " Reading VSC dc line data...\n",
      "\n",
      " Reading transformer impedance correction data...\n",
      "\n",
      " Reading multi-terminal dc line data...\n",
      "\n",
      " Reading multi-section line data...\n",
      "\n",
      " Reading zone name data...\n",
      "\n",
      " Reading inter-area transfer data...\n",
      "\n",
      " Reading owner name data...\n",
      "\n",
      " Reading FACTS device data...\n",
      "\n",
      " Reading switched shunt data...\n",
      "\n",
      " Reading GNE device data...\n",
      "\n",
      " Reading induction machine data...\n",
      "\n",
      " Reading load type data...\n",
      "\n",
      " Reading interface data...\n",
      "\n",
      " Reading interface element data...\n",
      "\n",
      " Reading substation data...\n"
     ]
    },
    {
     "data": {
      "text/plain": [
       "0"
      ]
     },
     "execution_count": 45,
     "metadata": {},
     "output_type": "execute_result"
    }
   ],
   "source": [
    "# read case\n",
    "psspy.read(0, \"IEEE 39 bus.RAW\")"
   ]
  },
  {
   "cell_type": "code",
   "execution_count": 46,
   "metadata": {},
   "outputs": [
    {
     "name": "stdout",
     "output_type": "stream",
     "text": [
      "\n",
      " Ordering network...\n",
      " Diagonals = 38   Off-diagonals = 66   Maximum size = 90\n",
      "\n",
      "  ITER       DELTAP      BUS         DELTAQ      BUS        DELTA/V/      BUS       DELTAANG      BUS\n",
      "   0         0.0007(      2     )    0.0022(      5     )\n",
      "                                                             0.00001(     17     )   0.00000(     22     )\n",
      "   1         0.0000(      2     )    0.0000(      5     )\n",
      "                                                             0.00000(     18     )   0.00000(     25     )\n",
      "   2         0.0000(      6     )    0.0000(     22     )\n",
      "\n",
      "\n",
      " Reached tolerance in 2 iterations\n",
      "\n",
      " Largest mismatch:     -0.00 MW      0.00 Mvar      0.00 MVA at bus 5 [5           1.0000]\n",
      " System total absolute mismatch:                    0.00 MVA\n",
      "\n",
      " SWING BUS SUMMARY:\n",
      "   BUS#-SCT X-- NAME --X BASKV      PGEN     PMAX    PMIN      QGEN     QMAX    QMIN\n",
      "     31     31          1.0000     571.3   9999.9     0.0     363.9    800.0  -500.0\n"
     ]
    },
    {
     "data": {
      "text/plain": [
       "0"
      ]
     },
     "execution_count": 46,
     "metadata": {},
     "output_type": "execute_result"
    }
   ],
   "source": [
    "# run load flow analysis\n",
    "psspy.fnsl([0,0,0,1,1,0,99,0]) # flat start newton-raphson load flow"
   ]
  },
  {
   "cell_type": "code",
   "execution_count": 47,
   "metadata": {},
   "outputs": [],
   "source": [
    "from itertools import groupby\n",
    "from operator import itemgetter\n",
    "attr_type = itemgetter(0)\n",
    "\n",
    "def subsystem_info(name, attributes, sid=-1, inservice=True):\n",
    "    \"\"\"\n",
    "    Returns requested attributes from the PSS(r)E subsystem API\n",
    "    for the given subsystem id and subsystem element name.\n",
    "    e.g. to retrieve bus attributes \"NAME\", \"NUMBER\" and \"PU\"\n",
    "      \n",
    "      subsystem_info('bus', [\"NAME\", \"NUMBER\", \"PU\"])\n",
    "    where the 'bus' `name` argument comes from the original\n",
    "    PSS(r)E subsystem API naming convention found in Chapter 8 of the\n",
    "    PSS(r)E API.\n",
    "    abusint  # bus\n",
    "    amachint # mach\n",
    "    aloadint # load\n",
    "    Args:\n",
    "      inservice [optional]: True (default) to list only information\n",
    "         for in service elements;\n",
    "      sid [optional]: list only information for elements in this\n",
    "         subsystem id (-1, all elements by default).  \n",
    "    \n",
    "    \"\"\"\n",
    "    name = name.lower()\n",
    "    gettypes = getattr(psspy, 'a%stypes' % name)\n",
    "    apilookup = {\n",
    "            'I': getattr(psspy, 'a%sint' % name),\n",
    "            'R': getattr(psspy, 'a%sreal' % name),\n",
    "            'X': getattr(psspy, 'a%scplx' % name),\n",
    "            'C': getattr(psspy, 'a%schar' % name), }\n",
    "\n",
    "    result = []\n",
    "    ierr, attr_types = gettypes(attributes)\n",
    "\n",
    "    for k, group in groupby(list(zip(attr_types, attributes)), key=attr_type):\n",
    "        func = apilookup[k]\n",
    "        strings = list(list(zip(*group))[1])\n",
    "        ierr, res = func(sid, flag=1 if inservice else 2, string=strings)\n",
    "        result.extend(res)\n",
    "\n",
    "    return list(zip(*result))"
   ]
  },
  {
   "cell_type": "code",
   "execution_count": 50,
   "metadata": {},
   "outputs": [
    {
     "name": "stdout",
     "output_type": "stream",
     "text": [
      "[(1, 1.0517840385437012, -0.14960962533950806), (2, 1.0598753690719604, -0.10696150362491608), (3, 1.0565475225448608, -0.15615075826644897), (4, 1.0591864585876465, -0.1706710308790207), (5, 1.0735946893692017, -0.15302050113677979), (6, 1.074280858039856, -0.14211739599704742), (7, 1.0611553192138672, -0.17586809396743774), (8, 1.0585850477218628, -0.18357345461845398), (9, 1.054019570350647, -0.17936086654663086), (10, 1.0610601902008057, -0.10242798924446106), (11, 1.06428861618042, -0.11615447700023651), (12, 1.0493440628051758, -0.11581151932477951), (13, 1.0586985349655151, -0.113787442445755), (14, 1.056139588356018, -0.1402096152305603), (15, 1.0408930778503418, -0.14503347873687744), (16, 1.0485306978225708, -0.12051908671855927), (17, 1.0517454147338867, -0.13732415437698364), (18, 1.0523276329040527, -0.15171585977077484), (19, 1.0559942722320557, -0.040701281279325485), (20, 0.9942230582237244, -0.06498680263757706), (21, 1.0435523986816406, -0.07934939116239548), (22, 1.0561085939407349, -0.002738625044003129), (23, 1.0513238906860352, -0.006164252758026123), (24, 1.0525844097137451, -0.11842615157365799), (25, 1.0658155679702759, -0.08194005489349365), (26, 1.062293291091919, -0.10423557460308075), (27, 1.0517330169677734, -0.13913337886333466), (28, 1.0554094314575195, -0.043461356312036514), (29, 1.0535695552825928, 0.00442079920321703), (30, 1.0475000143051147, -0.06517268717288971), (31, 0.9819999933242798, -0.02769487537443638), (32, 0.9830999970436096, 0.031319309026002884), (33, 0.9972000122070312, 0.0501176156103611), (34, 1.0123000144958496, 0.02546546794474125), (35, 1.049299955368042, 0.08334121853113174), (36, 1.0635000467300415, 0.1301533281803131), (37, 1.0277999639511108, 0.03575349599123001), (38, 1.0264999866485596, 0.12745143473148346), (39, 1.0299999713897705, -0.17564573884010315)]\n"
     ]
    }
   ],
   "source": [
    "cols = ['NUMBER', 'PU', 'Angle']\n",
    "businfo = subsystem_info('bus', cols, sid=-1)\n",
    "print(businfo)"
   ]
  },
  {
   "cell_type": "code",
   "execution_count": 20,
   "metadata": {},
   "outputs": [
    {
     "name": "stdout",
     "output_type": "stream",
     "text": [
      "None\n"
     ]
    }
   ],
   "source": [
    "ierr, busIDs = psspy.abusint(sid=-1, string=\"ID\")\n",
    "ierr, busNums = psspy.abusint(sid=-1, flag=4, string=\"NUMBER\")\n",
    "print(busIDs)"
   ]
  },
  {
   "cell_type": "code",
   "execution_count": null,
   "metadata": {},
   "outputs": [
    {
     "name": "stdout",
     "output_type": "stream",
     "text": [
      "[[1, 2, 3, 4, 5, 6, 7, 8, 9, 10, 11, 12, 13, 14, 15, 16, 17, 18, 19, 20, 21, 22, 23, 24, 25, 26, 27, 28, 29, 31, 39]]\n"
     ]
    }
   ],
   "source": [
    "print(busNums)"
   ]
  },
  {
   "cell_type": "code",
   "execution_count": 18,
   "metadata": {},
   "outputs": [
    {
     "name": "stdout",
     "output_type": "stream",
     "text": [
      "[['1           ', '2           ', '3           ', '4           ', '5           ', '6           ', '7           ', '8           ', '9           ', '10          ', '11          ', '12          ', '13          ', '14          ', '15          ', '16          ', '17          ', '18          ', '19          ', '20          ', '21          ', '22          ', '23          ', '24          ', '25          ', '26          ', '27          ', '28          ', '29          ', '30          ', '31          ', '32          ', '33          ', '34          ', '35          ', '36          ', '37          ', '38          ', '39          ']]\n"
     ]
    }
   ],
   "source": [
    "ierr, busNames = psspy.abuschar(sid=-1, string=\"NAME\")\n",
    "print(busNames)"
   ]
  }
 ],
 "metadata": {
  "kernelspec": {
   "display_name": ".venv",
   "language": "python",
   "name": "python3"
  },
  "language_info": {
   "codemirror_mode": {
    "name": "ipython",
    "version": 3
   },
   "file_extension": ".py",
   "mimetype": "text/x-python",
   "name": "python",
   "nbconvert_exporter": "python",
   "pygments_lexer": "ipython3",
   "version": "3.11.9"
  }
 },
 "nbformat": 4,
 "nbformat_minor": 2
}
